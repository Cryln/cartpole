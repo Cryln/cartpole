{
 "metadata": {
  "language_info": {
   "codemirror_mode": {
    "name": "ipython",
    "version": 3
   },
   "file_extension": ".py",
   "mimetype": "text/x-python",
   "name": "python",
   "nbconvert_exporter": "python",
   "pygments_lexer": "ipython3",
   "version": "3.8.6-candidate"
  },
  "orig_nbformat": 2,
  "kernelspec": {
   "name": "Python 3.8.6 64-bit",
   "display_name": "Python 3.8.6 64-bit",
   "metadata": {
    "interpreter": {
     "hash": "6a93917f20a5fee5406f6fa0174dab0e368735a528d20a27b8688982510b1597"
    }
   }
  }
 },
 "nbformat": 4,
 "nbformat_minor": 2,
 "cells": [
  {
   "cell_type": "code",
   "execution_count": 9,
   "metadata": {},
   "outputs": [
    {
     "output_type": "stream",
     "name": "stdout",
     "text": [
      "Help on Box in module gym.spaces.box object:\n\nclass Box(gym.spaces.space.Space)\n |  Box(low, high, shape=None, dtype=<class 'numpy.float32'>)\n |  \n |  A (possibly unbounded) box in R^n. Specifically, a Box represents the\n |  Cartesian product of n closed intervals. Each interval has the form of one\n |  of [a, b], (-oo, b], [a, oo), or (-oo, oo).\n |  \n |  There are two common use cases:\n |  \n |  * Identical bound for each dimension::\n |      >>> Box(low=-1.0, high=2.0, shape=(3, 4), dtype=np.float32)\n |      Box(3, 4)\n |  \n |  * Independent bound for each dimension::\n |      >>> Box(low=np.array([-1.0, -2.0]), high=np.array([2.0, 4.0]), dtype=np.float32)\n |      Box(2,)\n |  \n |  Method resolution order:\n |      Box\n |      gym.spaces.space.Space\n |      builtins.object\n |  \n |  Methods defined here:\n |  \n |  __eq__(self, other)\n |      Return self==value.\n |  \n |  __init__(self, low, high, shape=None, dtype=<class 'numpy.float32'>)\n |      Initialize self.  See help(type(self)) for accurate signature.\n |  \n |  __repr__(self)\n |      Return repr(self).\n |  \n |  contains(self, x)\n |      Return boolean specifying if x is a valid\n |      member of this space\n |  \n |  from_jsonable(self, sample_n)\n |      Convert a JSONable data type to a batch of samples from this space.\n |  \n |  is_bounded(self, manner='both')\n |  \n |  sample(self)\n |      Generates a single random sample inside of the Box.\n |      \n |      In creating a sample of the box, each coordinate is sampled according to\n |      the form of the interval:\n |      \n |      * [a, b] : uniform distribution\n |      * [a, oo) : shifted exponential distribution\n |      * (-oo, b] : shifted negative exponential distribution\n |      * (-oo, oo) : normal distribution\n |  \n |  to_jsonable(self, sample_n)\n |      Convert a batch of samples from this space to a JSONable data type.\n |  \n |  ----------------------------------------------------------------------\n |  Data and other attributes defined here:\n |  \n |  __hash__ = None\n |  \n |  ----------------------------------------------------------------------\n |  Methods inherited from gym.spaces.space.Space:\n |  \n |  __contains__(self, x)\n |  \n |  seed(self, seed=None)\n |      Seed the PRNG of this space.\n |  \n |  ----------------------------------------------------------------------\n |  Data descriptors inherited from gym.spaces.space.Space:\n |  \n |  __dict__\n |      dictionary for instance variables (if defined)\n |  \n |  __weakref__\n |      list of weak references to the object (if defined)\n\n"
     ]
    }
   ],
   "source": [
    "help(env.observation_space)"
   ]
  },
  {
   "cell_type": "code",
   "execution_count": 14,
   "metadata": {},
   "outputs": [
    {
     "output_type": "execute_result",
     "data": {
      "text/plain": [
       "array([-1.0298635e+00, -4.0143128e+37,  1.8663973e-01, -2.3966630e+38],\n",
       "      dtype=float32)"
      ]
     },
     "metadata": {},
     "execution_count": 14
    }
   ],
   "source": [
    "env.observation_space.shape"
   ]
  },
  {
   "cell_type": "code",
   "execution_count": 7,
   "metadata": {},
   "outputs": [
    {
     "output_type": "stream",
     "name": "stdout",
     "text": [
      "2 // 4\n"
     ]
    }
   ],
   "source": [
    "import gym\n",
    "env = gym.make('CartPole-v0')\n",
    "print(env.action_space.n,\"//\",env.observation_space.shape[0])"
   ]
  },
  {
   "cell_type": "code",
   "execution_count": 21,
   "metadata": {},
   "outputs": [
    {
     "output_type": "execute_result",
     "data": {
      "text/plain": [
       "[9, 1, 0]"
      ]
     },
     "metadata": {},
     "execution_count": 21
    }
   ],
   "source": [
    "import random\n",
    "a = [1,'a',5,9,0]\n",
    "b = random.sample(a,3)\n",
    "b"
   ]
  },
  {
   "cell_type": "code",
   "execution_count": 24,
   "metadata": {},
   "outputs": [
    {
     "output_type": "stream",
     "name": "stdout",
     "text": [
      "[(1, 4), ('a', 3), (5, 1)]\n"
     ]
    }
   ],
   "source": [
    "c = [4,3,1]\n",
    "d= zip(a,c)\n",
    "print(list(d))"
   ]
  }
 ]
}